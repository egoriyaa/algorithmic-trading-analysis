{
 "cells": [
  {
   "cell_type": "markdown",
   "metadata": {},
   "source": [
    "Хотел обучить какую нибудь простую модельку, не вышло, работает слишком плохо, не успел придумать ничего другого.\n",
    "\n",
    "Идея была следующая - обучить 2 модельки, которые предсказывают отдельно ask и bid цены. Если следующая bid цена будет выше предыдущей ask цены (при условии что разница цен больше 2 комиссий), то мы покупаем на данном шаге. Если наоборот, то продаем.\n",
    "Идем окном размера N по ценам и подаем в модель $[x_{k-N}, ..., x_{k-1}]$ и предсказываем $x_k$"
   ]
  },
  {
   "cell_type": "code",
   "execution_count": 1,
   "metadata": {
    "colab": {
     "base_uri": "https://localhost:8080/"
    },
    "id": "naCX-8ux3VeS",
    "outputId": "0c854e0e-af41-41af-deb1-454eaff5a511"
   },
   "outputs": [
    {
     "name": "stdout",
     "output_type": "stream",
     "text": [
      "Mounted at /content/drive\n"
     ]
    }
   ],
   "source": [
    "import torch\n",
    "from torch import nn, Tensor\n",
    "from torch.utils.data import DataLoader, Dataset, TensorDataset\n",
    "from typing import Any, List, Tuple\n",
    "from sklearn.metrics import mean_squared_error\n",
    "import numpy as np\n",
    "\n",
    "from google.colab import drive\n",
    "drive.mount('/content/drive')"
   ]
  },
  {
   "cell_type": "code",
   "execution_count": 2,
   "metadata": {
    "colab": {
     "base_uri": "https://localhost:8080/"
    },
    "id": "PvhJ4SjQ3bDA",
    "outputId": "9069faee-8eae-439e-d2e7-113639828481"
   },
   "outputs": [
    {
     "name": "stdout",
     "output_type": "stream",
     "text": [
      "/content/drive/MyDrive\n"
     ]
    }
   ],
   "source": [
    "%cd drive/MyDrive/"
   ]
  },
  {
   "cell_type": "code",
   "execution_count": 5,
   "metadata": {
    "colab": {
     "base_uri": "https://localhost:8080/"
    },
    "id": "Mr_L3vmx3lrw",
    "outputId": "6b583404-1300-420f-d155-bb729726cdb1"
   },
   "outputs": [
    {
     "data": {
      "text/plain": [
       "6036368"
      ]
     },
     "execution_count": 5,
     "metadata": {},
     "output_type": "execute_result"
    }
   ],
   "source": [
    "import json\n",
    "with open('bitmex.json') as f:\n",
    "    ask = np.array(json.load(f))\n",
    "len(ask)"
   ]
  },
  {
   "cell_type": "code",
   "execution_count": 57,
   "metadata": {
    "id": "1Bpxlxjw3VeT"
   },
   "outputs": [],
   "source": [
    "from tqdm import tqdm\n",
    "def run_epoch(model, dataloader, criterion, device='cpu', optimizer=None, do_train=True, scheduler=None):\n",
    "    loss_log, preds, gts = [], [], []\n",
    "    prefix = ['Val', 'Train'][do_train] + ' - {}'\n",
    "    model.train(do_train)\n",
    "\n",
    "    for x_batch, y_batch in tqdm(dataloader, position=0):\n",
    "        data = x_batch.to(device)\n",
    "        target = y_batch.to(device)\n",
    "\n",
    "        if do_train:\n",
    "            optimizer.zero_grad()\n",
    "\n",
    "        with torch.inference_mode(not do_train):\n",
    "            output = model(data)\n",
    "            loss = criterion(output, target).cpu()\n",
    "            \n",
    "        preds.append(output.detach().cpu())\n",
    "        gts.append(y_batch.detach().cpu())\n",
    "        loss_log.append(loss.item())\n",
    "\n",
    "        if not do_train:\n",
    "            continue\n",
    "    \n",
    "        loss.backward()\n",
    "        optimizer.step()\n",
    "\n",
    "        if scheduler:\n",
    "            scheduler.step()\n",
    "    return torch.cat(gts), torch.cat(preds), loss_log\n",
    "    \n",
    "def train(model, dataloaders, optimizer, criterion, n_epochs, device='cpu', scheduler=None, submit=False):\n",
    "    prefix = 'Full val - {}'\n",
    "    for epoch in tqdm(range(n_epochs), position=0):\n",
    "        print(\"Epoch {0} of {1}\".format(epoch, n_epochs))\n",
    "\n",
    "        train_targets, train_preds, train_loss = run_epoch(\n",
    "            model=model,\n",
    "            dataloader=dataloaders['train'],\n",
    "            criterion=criterion, \n",
    "            optimizer=optimizer,\n",
    "            do_train=True,\n",
    "            scheduler=scheduler,\n",
    "            device=device,\n",
    "        )\n",
    "        print(\"Train MSE: \", mean_squared_error(train_targets, train_preds), end='   ')\n",
    "        if not submit:\n",
    "            val_targets, val_preds, val_loss = run_epoch(\n",
    "                model=model,\n",
    "                dataloader=dataloaders['val'],\n",
    "                criterion=criterion, \n",
    "                optimizer=None,\n",
    "                do_train=False,\n",
    "                scheduler=None,\n",
    "                device=device,\n",
    "            )\n",
    "            print(\"Val MSE: \", mean_squared_error(val_targets, val_preds))\n",
    "\n",
    "def inference(model, dataloader, device='cpu'):\n",
    "    preds = []\n",
    "    model.eval()\n",
    "    for x_batch in tqdm(dataloader):\n",
    "        data = x_batch[0].to(device)\n",
    "        with torch.inference_mode():\n",
    "            output = model(data)\n",
    "            preds.append(output.detach().cpu())\n",
    "            \n",
    "    return torch.cat(preds)"
   ]
  },
  {
   "cell_type": "code",
   "execution_count": 58,
   "metadata": {
    "id": "v6Mhpgm23VeW"
   },
   "outputs": [],
   "source": [
    "class CustomDataset(Dataset):\n",
    "    \"\"\"\n",
    "    Dataset for sampling stock data \n",
    "    Attributes:\n",
    "        stock: List of stock prices.\n",
    "        window: Number of previous prices to predict next.\n",
    "    \"\"\"\n",
    "    def __init__(self, stock, window=10) -> None:\n",
    "        self.stock = stock\n",
    "        self.window = window\n",
    "        \n",
    "    def __len__(self) -> int:\n",
    "        return len(self.stock) - self.window\n",
    "    \n",
    "    def __getitem__(self, idx) -> Tuple[Tensor, Tensor]:\n",
    "        prices = torch.tensor(self.stock[idx:idx+self.window]).float()\n",
    "        target = torch.tensor(self.stock[idx+self.window]).float()\n",
    "        prices = prices.unsqueeze(1)\n",
    "        return prices, target"
   ]
  },
  {
   "cell_type": "markdown",
   "metadata": {},
   "source": [
    "Возьмем каждое 20 значение, разделим на train и val"
   ]
  },
  {
   "cell_type": "code",
   "execution_count": 99,
   "metadata": {
    "id": "lGaEu6nJ3VeX"
   },
   "outputs": [],
   "source": [
    "ask_cp = ask[::20]\n",
    "\n",
    "train_ask = ask_cp[:int(len(ask_cp)*0.8)]\n",
    "val_ask = ask_cp[int(len(ask_cp)*0.8):]\n",
    "\n",
    "train_ask_dataset = CustomDataset(train_ask)\n",
    "val_ask_dataset = CustomDataset(val_ask)\n",
    "\n",
    "train_ask_dataloader = DataLoader(\n",
    "    train_ask_dataset,\n",
    "    batch_size=64,\n",
    "    pin_memory=True,\n",
    "    num_workers=2,\n",
    "    shuffle=False\n",
    ")\n",
    "val_ask_dataloader = DataLoader(\n",
    "    val_ask_dataset, \n",
    "    batch_size=64, \n",
    "    pin_memory=True, \n",
    "    num_workers=2, \n",
    "    shuffle=False\n",
    ")\n",
    "\n",
    "ask_dataloaders = {'train': train_ask_dataloader, 'val': val_ask_dataloader}\n",
    "\n",
    "device = torch.device(\"cuda:0\") if torch.cuda.is_available() else torch.device(\"cpu\")"
   ]
  },
  {
   "cell_type": "code",
   "execution_count": 100,
   "metadata": {
    "id": "1rW0lyCE3VeY"
   },
   "outputs": [],
   "source": [
    "class AskNet(nn.Module):\n",
    "    def __init__(self):\n",
    "        super(AskNet, self).__init__()\n",
    "        self.lstm = nn.LSTM(input_size=1, hidden_size=16, num_layers=2, batch_first=True)\n",
    "        self.linear = nn.Linear(16, 1)\n",
    "        \n",
    "    def forward(self, x):\n",
    "        x, _  = self.lstm(x)\n",
    "        out = self.linear(x[:,-1,:]).squeeze()\n",
    "        return out"
   ]
  },
  {
   "cell_type": "code",
   "execution_count": 102,
   "metadata": {
    "colab": {
     "base_uri": "https://localhost:8080/"
    },
    "id": "kwG54Ck_3VeZ",
    "outputId": "79a6815b-fa13-4631-a63e-28a8d5636160"
   },
   "outputs": [
    {
     "name": "stderr",
     "output_type": "stream",
     "text": [
      "\r",
      "  0%|          | 0/30 [00:00<?, ?it/s]"
     ]
    },
    {
     "name": "stdout",
     "output_type": "stream",
     "text": [
      "Epoch 0 of 30\n"
     ]
    },
    {
     "name": "stderr",
     "output_type": "stream",
     "text": [
      "100%|██████████| 3773/3773 [00:25<00:00, 149.67it/s]\n"
     ]
    },
    {
     "name": "stdout",
     "output_type": "stream",
     "text": [
      "Train MSE:  527330370.0   "
     ]
    },
    {
     "name": "stderr",
     "output_type": "stream",
     "text": [
      "100%|██████████| 944/944 [00:03<00:00, 250.41it/s]\n",
      "  3%|▎         | 1/30 [00:29<14:01, 29.01s/it]"
     ]
    },
    {
     "name": "stdout",
     "output_type": "stream",
     "text": [
      "Val acc:  487224670.0\n",
      "Epoch 1 of 30\n"
     ]
    },
    {
     "name": "stderr",
     "output_type": "stream",
     "text": [
      "100%|██████████| 3773/3773 [00:25<00:00, 149.83it/s]\n"
     ]
    },
    {
     "name": "stdout",
     "output_type": "stream",
     "text": [
      "Train MSE:  498469820.0   "
     ]
    },
    {
     "name": "stderr",
     "output_type": "stream",
     "text": [
      "100%|██████████| 944/944 [00:03<00:00, 250.90it/s]\n",
      "  7%|▋         | 2/30 [00:57<13:31, 28.99s/it]"
     ]
    },
    {
     "name": "stdout",
     "output_type": "stream",
     "text": [
      "Val acc:  459522780.0\n",
      "Epoch 2 of 30\n"
     ]
    },
    {
     "name": "stderr",
     "output_type": "stream",
     "text": [
      "100%|██████████| 3773/3773 [00:25<00:00, 149.22it/s]\n"
     ]
    },
    {
     "name": "stdout",
     "output_type": "stream",
     "text": [
      "Train MSE:  470456000.0   "
     ]
    },
    {
     "name": "stderr",
     "output_type": "stream",
     "text": [
      "100%|██████████| 944/944 [00:03<00:00, 248.58it/s]\n",
      " 10%|█         | 3/30 [01:27<13:04, 29.05s/it]"
     ]
    },
    {
     "name": "stdout",
     "output_type": "stream",
     "text": [
      "Val acc:  432643000.0\n",
      "Epoch 3 of 30\n"
     ]
    },
    {
     "name": "stderr",
     "output_type": "stream",
     "text": [
      "100%|██████████| 3773/3773 [00:25<00:00, 148.72it/s]\n"
     ]
    },
    {
     "name": "stdout",
     "output_type": "stream",
     "text": [
      "Train MSE:  443260500.0   "
     ]
    },
    {
     "name": "stderr",
     "output_type": "stream",
     "text": [
      "100%|██████████| 944/944 [00:04<00:00, 213.41it/s]\n",
      " 13%|█▎        | 4/30 [01:56<12:43, 29.36s/it]"
     ]
    },
    {
     "name": "stdout",
     "output_type": "stream",
     "text": [
      "Val acc:  406579840.0\n",
      "Epoch 4 of 30\n"
     ]
    },
    {
     "name": "stderr",
     "output_type": "stream",
     "text": [
      "100%|██████████| 3773/3773 [00:24<00:00, 152.39it/s]\n"
     ]
    },
    {
     "name": "stdout",
     "output_type": "stream",
     "text": [
      "Train MSE:  416881180.0   "
     ]
    },
    {
     "name": "stderr",
     "output_type": "stream",
     "text": [
      "100%|██████████| 944/944 [00:05<00:00, 183.87it/s]\n",
      " 17%|█▋        | 5/30 [02:26<12:19, 29.57s/it]"
     ]
    },
    {
     "name": "stdout",
     "output_type": "stream",
     "text": [
      "Val acc:  381332500.0\n",
      "Epoch 5 of 30\n"
     ]
    },
    {
     "name": "stderr",
     "output_type": "stream",
     "text": [
      "100%|██████████| 3773/3773 [00:24<00:00, 152.61it/s]\n"
     ]
    },
    {
     "name": "stdout",
     "output_type": "stream",
     "text": [
      "Train MSE:  391318050.0   "
     ]
    },
    {
     "name": "stderr",
     "output_type": "stream",
     "text": [
      "100%|██████████| 944/944 [00:04<00:00, 222.00it/s]\n",
      " 20%|██        | 6/30 [02:55<11:45, 29.38s/it]"
     ]
    },
    {
     "name": "stdout",
     "output_type": "stream",
     "text": [
      "Val acc:  356900350.0\n",
      "Epoch 6 of 30\n"
     ]
    },
    {
     "name": "stderr",
     "output_type": "stream",
     "text": [
      "100%|██████████| 3773/3773 [00:25<00:00, 147.43it/s]\n"
     ]
    },
    {
     "name": "stdout",
     "output_type": "stream",
     "text": [
      "Train MSE:  366570370.0   "
     ]
    },
    {
     "name": "stderr",
     "output_type": "stream",
     "text": [
      "100%|██████████| 944/944 [00:03<00:00, 248.11it/s]\n",
      " 23%|██▎       | 7/30 [03:25<11:16, 29.40s/it]"
     ]
    },
    {
     "name": "stdout",
     "output_type": "stream",
     "text": [
      "Val acc:  333284450.0\n",
      "Epoch 7 of 30\n"
     ]
    },
    {
     "name": "stderr",
     "output_type": "stream",
     "text": [
      "100%|██████████| 3773/3773 [00:25<00:00, 150.23it/s]\n"
     ]
    },
    {
     "name": "stdout",
     "output_type": "stream",
     "text": [
      "Train MSE:  342639840.0   "
     ]
    },
    {
     "name": "stderr",
     "output_type": "stream",
     "text": [
      "100%|██████████| 944/944 [00:03<00:00, 252.66it/s]\n",
      " 27%|██▋       | 8/30 [03:54<10:43, 29.23s/it]"
     ]
    },
    {
     "name": "stdout",
     "output_type": "stream",
     "text": [
      "Val acc:  310484060.0\n",
      "Epoch 8 of 30\n"
     ]
    },
    {
     "name": "stderr",
     "output_type": "stream",
     "text": [
      "100%|██████████| 3773/3773 [00:25<00:00, 148.50it/s]\n"
     ]
    },
    {
     "name": "stdout",
     "output_type": "stream",
     "text": [
      "Train MSE:  319522200.0   "
     ]
    },
    {
     "name": "stderr",
     "output_type": "stream",
     "text": [
      "100%|██████████| 944/944 [00:03<00:00, 251.17it/s]\n",
      " 30%|███       | 9/30 [04:23<10:13, 29.22s/it]"
     ]
    },
    {
     "name": "stdout",
     "output_type": "stream",
     "text": [
      "Val acc:  288497300.0\n",
      "Epoch 9 of 30\n"
     ]
    },
    {
     "name": "stderr",
     "output_type": "stream",
     "text": [
      "100%|██████████| 3773/3773 [00:25<00:00, 148.95it/s]\n"
     ]
    },
    {
     "name": "stdout",
     "output_type": "stream",
     "text": [
      "Train MSE:  297219970.0   "
     ]
    },
    {
     "name": "stderr",
     "output_type": "stream",
     "text": [
      "100%|██████████| 944/944 [00:04<00:00, 235.65it/s]\n",
      " 33%|███▎      | 10/30 [04:52<09:45, 29.27s/it]"
     ]
    },
    {
     "name": "stdout",
     "output_type": "stream",
     "text": [
      "Val acc:  267325000.0\n",
      "Epoch 10 of 30\n"
     ]
    },
    {
     "name": "stderr",
     "output_type": "stream",
     "text": [
      "100%|██████████| 3773/3773 [00:25<00:00, 150.34it/s]\n"
     ]
    },
    {
     "name": "stdout",
     "output_type": "stream",
     "text": [
      "Train MSE:  275733440.0   "
     ]
    },
    {
     "name": "stderr",
     "output_type": "stream",
     "text": [
      "100%|██████████| 944/944 [00:05<00:00, 185.58it/s]\n",
      " 37%|███▋      | 11/30 [05:23<09:21, 29.56s/it]"
     ]
    },
    {
     "name": "stdout",
     "output_type": "stream",
     "text": [
      "Val acc:  246968930.0\n",
      "Epoch 11 of 30\n"
     ]
    },
    {
     "name": "stderr",
     "output_type": "stream",
     "text": [
      "100%|██████████| 3773/3773 [00:24<00:00, 154.85it/s]\n"
     ]
    },
    {
     "name": "stdout",
     "output_type": "stream",
     "text": [
      "Train MSE:  255061550.0   "
     ]
    },
    {
     "name": "stderr",
     "output_type": "stream",
     "text": [
      "100%|██████████| 944/944 [00:04<00:00, 201.48it/s]\n",
      " 40%|████      | 12/30 [05:52<08:49, 29.42s/it]"
     ]
    },
    {
     "name": "stdout",
     "output_type": "stream",
     "text": [
      "Val acc:  227426690.0\n",
      "Epoch 12 of 30\n"
     ]
    },
    {
     "name": "stderr",
     "output_type": "stream",
     "text": [
      "100%|██████████| 3773/3773 [00:25<00:00, 149.10it/s]\n"
     ]
    },
    {
     "name": "stdout",
     "output_type": "stream",
     "text": [
      "Train MSE:  235203730.0   "
     ]
    },
    {
     "name": "stderr",
     "output_type": "stream",
     "text": [
      "100%|██████████| 944/944 [00:03<00:00, 248.42it/s]\n",
      " 43%|████▎     | 13/30 [06:21<08:18, 29.33s/it]"
     ]
    },
    {
     "name": "stdout",
     "output_type": "stream",
     "text": [
      "Val acc:  208696300.0\n",
      "Epoch 13 of 30\n"
     ]
    },
    {
     "name": "stderr",
     "output_type": "stream",
     "text": [
      "100%|██████████| 3773/3773 [00:25<00:00, 149.19it/s]\n"
     ]
    },
    {
     "name": "stdout",
     "output_type": "stream",
     "text": [
      "Train MSE:  216159620.0   "
     ]
    },
    {
     "name": "stderr",
     "output_type": "stream",
     "text": [
      "100%|██████████| 944/944 [00:03<00:00, 248.46it/s]\n",
      " 47%|████▋     | 14/30 [06:50<07:48, 29.27s/it]"
     ]
    },
    {
     "name": "stdout",
     "output_type": "stream",
     "text": [
      "Val acc:  190782100.0\n",
      "Epoch 14 of 30\n"
     ]
    },
    {
     "name": "stderr",
     "output_type": "stream",
     "text": [
      "100%|██████████| 3773/3773 [00:25<00:00, 147.84it/s]\n"
     ]
    },
    {
     "name": "stdout",
     "output_type": "stream",
     "text": [
      "Train MSE:  197930800.0   "
     ]
    },
    {
     "name": "stderr",
     "output_type": "stream",
     "text": [
      "100%|██████████| 944/944 [00:03<00:00, 247.35it/s]\n",
      " 50%|█████     | 15/30 [07:19<07:19, 29.30s/it]"
     ]
    },
    {
     "name": "stdout",
     "output_type": "stream",
     "text": [
      "Val acc:  173681390.0\n",
      "Epoch 15 of 30\n"
     ]
    },
    {
     "name": "stderr",
     "output_type": "stream",
     "text": [
      "100%|██████████| 3773/3773 [00:25<00:00, 149.15it/s]\n"
     ]
    },
    {
     "name": "stdout",
     "output_type": "stream",
     "text": [
      "Train MSE:  180513980.0   "
     ]
    },
    {
     "name": "stderr",
     "output_type": "stream",
     "text": [
      "100%|██████████| 944/944 [00:03<00:00, 245.03it/s]\n",
      " 53%|█████▎    | 16/30 [07:48<06:49, 29.27s/it]"
     ]
    },
    {
     "name": "stdout",
     "output_type": "stream",
     "text": [
      "Val acc:  157388980.0\n",
      "Epoch 16 of 30\n"
     ]
    },
    {
     "name": "stderr",
     "output_type": "stream",
     "text": [
      "100%|██████████| 3773/3773 [00:25<00:00, 147.77it/s]\n"
     ]
    },
    {
     "name": "stdout",
     "output_type": "stream",
     "text": [
      "Train MSE:  163906350.0   "
     ]
    },
    {
     "name": "stderr",
     "output_type": "stream",
     "text": [
      "100%|██████████| 944/944 [00:04<00:00, 205.67it/s]\n",
      " 57%|█████▋    | 17/30 [08:19<06:23, 29.54s/it]"
     ]
    },
    {
     "name": "stdout",
     "output_type": "stream",
     "text": [
      "Val acc:  141909060.0\n",
      "Epoch 17 of 30\n"
     ]
    },
    {
     "name": "stderr",
     "output_type": "stream",
     "text": [
      "100%|██████████| 3773/3773 [00:24<00:00, 154.68it/s]\n"
     ]
    },
    {
     "name": "stdout",
     "output_type": "stream",
     "text": [
      "Train MSE:  148112850.0   "
     ]
    },
    {
     "name": "stderr",
     "output_type": "stream",
     "text": [
      "100%|██████████| 944/944 [00:05<00:00, 185.53it/s]\n",
      " 60%|██████    | 18/30 [08:48<05:54, 29.53s/it]"
     ]
    },
    {
     "name": "stdout",
     "output_type": "stream",
     "text": [
      "Val acc:  127239576.0\n",
      "Epoch 18 of 30\n"
     ]
    },
    {
     "name": "stderr",
     "output_type": "stream",
     "text": [
      "100%|██████████| 3773/3773 [00:24<00:00, 152.36it/s]\n"
     ]
    },
    {
     "name": "stdout",
     "output_type": "stream",
     "text": [
      "Train MSE:  133130536.0   "
     ]
    },
    {
     "name": "stderr",
     "output_type": "stream",
     "text": [
      "100%|██████████| 944/944 [00:04<00:00, 216.80it/s]\n",
      " 63%|██████▎   | 19/30 [09:17<05:23, 29.42s/it]"
     ]
    },
    {
     "name": "stdout",
     "output_type": "stream",
     "text": [
      "Val acc:  113380680.0\n",
      "Epoch 19 of 30\n"
     ]
    },
    {
     "name": "stderr",
     "output_type": "stream",
     "text": [
      "100%|██████████| 3773/3773 [00:25<00:00, 148.80it/s]\n"
     ]
    },
    {
     "name": "stdout",
     "output_type": "stream",
     "text": [
      "Train MSE:  118957816.0   "
     ]
    },
    {
     "name": "stderr",
     "output_type": "stream",
     "text": [
      "100%|██████████| 944/944 [00:03<00:00, 251.09it/s]\n",
      " 67%|██████▋   | 20/30 [09:46<04:53, 29.34s/it]"
     ]
    },
    {
     "name": "stdout",
     "output_type": "stream",
     "text": [
      "Val acc:  100334130.0\n",
      "Epoch 20 of 30\n"
     ]
    },
    {
     "name": "stderr",
     "output_type": "stream",
     "text": [
      "100%|██████████| 3773/3773 [00:25<00:00, 150.46it/s]\n"
     ]
    },
    {
     "name": "stdout",
     "output_type": "stream",
     "text": [
      "Train MSE:  105598410.0   "
     ]
    },
    {
     "name": "stderr",
     "output_type": "stream",
     "text": [
      "100%|██████████| 944/944 [00:03<00:00, 249.14it/s]\n",
      " 70%|███████   | 21/30 [10:15<04:22, 29.21s/it]"
     ]
    },
    {
     "name": "stdout",
     "output_type": "stream",
     "text": [
      "Val acc:  88096610.0\n",
      "Epoch 21 of 30\n"
     ]
    },
    {
     "name": "stderr",
     "output_type": "stream",
     "text": [
      "100%|██████████| 3773/3773 [00:25<00:00, 148.52it/s]\n"
     ]
    },
    {
     "name": "stdout",
     "output_type": "stream",
     "text": [
      "Train MSE:  93048210.0   "
     ]
    },
    {
     "name": "stderr",
     "output_type": "stream",
     "text": [
      "100%|██████████| 944/944 [00:03<00:00, 250.10it/s]\n",
      " 73%|███████▎  | 22/30 [10:45<03:53, 29.21s/it]"
     ]
    },
    {
     "name": "stdout",
     "output_type": "stream",
     "text": [
      "Val acc:  76668250.0\n",
      "Epoch 22 of 30\n"
     ]
    },
    {
     "name": "stderr",
     "output_type": "stream",
     "text": [
      "100%|██████████| 3773/3773 [00:25<00:00, 149.17it/s]\n"
     ]
    },
    {
     "name": "stdout",
     "output_type": "stream",
     "text": [
      "Train MSE:  81304350.0   "
     ]
    },
    {
     "name": "stderr",
     "output_type": "stream",
     "text": [
      "100%|██████████| 944/944 [00:03<00:00, 245.51it/s]\n",
      " 77%|███████▋  | 23/30 [11:14<03:24, 29.20s/it]"
     ]
    },
    {
     "name": "stdout",
     "output_type": "stream",
     "text": [
      "Val acc:  66042964.0\n",
      "Epoch 23 of 30\n"
     ]
    },
    {
     "name": "stderr",
     "output_type": "stream",
     "text": [
      "100%|██████████| 3773/3773 [00:25<00:00, 149.47it/s]\n"
     ]
    },
    {
     "name": "stdout",
     "output_type": "stream",
     "text": [
      "Train MSE:  70366390.0   "
     ]
    },
    {
     "name": "stderr",
     "output_type": "stream",
     "text": [
      "100%|██████████| 944/944 [00:04<00:00, 192.42it/s]\n",
      " 80%|████████  | 24/30 [11:44<02:56, 29.50s/it]"
     ]
    },
    {
     "name": "stdout",
     "output_type": "stream",
     "text": [
      "Val acc:  56223220.0\n",
      "Epoch 24 of 30\n"
     ]
    },
    {
     "name": "stderr",
     "output_type": "stream",
     "text": [
      "100%|██████████| 3773/3773 [00:24<00:00, 154.67it/s]\n"
     ]
    },
    {
     "name": "stdout",
     "output_type": "stream",
     "text": [
      "Train MSE:  60235350.0   "
     ]
    },
    {
     "name": "stderr",
     "output_type": "stream",
     "text": [
      "100%|██████████| 944/944 [00:05<00:00, 186.92it/s]\n",
      " 83%|████████▎ | 25/30 [12:13<02:27, 29.49s/it]"
     ]
    },
    {
     "name": "stdout",
     "output_type": "stream",
     "text": [
      "Val acc:  47209984.0\n",
      "Epoch 25 of 30\n"
     ]
    },
    {
     "name": "stderr",
     "output_type": "stream",
     "text": [
      "100%|██████████| 3773/3773 [00:25<00:00, 149.69it/s]\n"
     ]
    },
    {
     "name": "stdout",
     "output_type": "stream",
     "text": [
      "Train MSE:  50911030.0   "
     ]
    },
    {
     "name": "stderr",
     "output_type": "stream",
     "text": [
      "100%|██████████| 944/944 [00:03<00:00, 242.83it/s]\n",
      " 87%|████████▋ | 26/30 [12:43<01:57, 29.39s/it]"
     ]
    },
    {
     "name": "stdout",
     "output_type": "stream",
     "text": [
      "Val acc:  38999292.0\n",
      "Epoch 26 of 30\n"
     ]
    },
    {
     "name": "stderr",
     "output_type": "stream",
     "text": [
      "100%|██████████| 3773/3773 [00:25<00:00, 149.91it/s]\n"
     ]
    },
    {
     "name": "stdout",
     "output_type": "stream",
     "text": [
      "Train MSE:  42388824.0   "
     ]
    },
    {
     "name": "stderr",
     "output_type": "stream",
     "text": [
      "100%|██████████| 944/944 [00:03<00:00, 247.01it/s]\n",
      " 90%|█████████ | 27/30 [13:12<01:27, 29.28s/it]"
     ]
    },
    {
     "name": "stdout",
     "output_type": "stream",
     "text": [
      "Val acc:  31589230.0\n",
      "Epoch 27 of 30\n"
     ]
    },
    {
     "name": "stderr",
     "output_type": "stream",
     "text": [
      "100%|██████████| 3773/3773 [00:25<00:00, 148.92it/s]\n"
     ]
    },
    {
     "name": "stdout",
     "output_type": "stream",
     "text": [
      "Train MSE:  34667936.0   "
     ]
    },
    {
     "name": "stderr",
     "output_type": "stream",
     "text": [
      "100%|██████████| 944/944 [00:03<00:00, 250.53it/s]\n",
      " 93%|█████████▎| 28/30 [13:41<00:58, 29.24s/it]"
     ]
    },
    {
     "name": "stdout",
     "output_type": "stream",
     "text": [
      "Val acc:  24975522.0\n",
      "Epoch 28 of 30\n"
     ]
    },
    {
     "name": "stderr",
     "output_type": "stream",
     "text": [
      "100%|██████████| 3773/3773 [00:25<00:00, 149.72it/s]\n"
     ]
    },
    {
     "name": "stdout",
     "output_type": "stream",
     "text": [
      "Train MSE:  27745590.0   "
     ]
    },
    {
     "name": "stderr",
     "output_type": "stream",
     "text": [
      "100%|██████████| 944/944 [00:03<00:00, 248.92it/s]\n",
      " 97%|█████████▋| 29/30 [14:10<00:29, 29.18s/it]"
     ]
    },
    {
     "name": "stdout",
     "output_type": "stream",
     "text": [
      "Val acc:  19159734.0\n",
      "Epoch 29 of 30\n"
     ]
    },
    {
     "name": "stderr",
     "output_type": "stream",
     "text": [
      "100%|██████████| 3773/3773 [00:25<00:00, 149.11it/s]\n"
     ]
    },
    {
     "name": "stdout",
     "output_type": "stream",
     "text": [
      "Train MSE:  21621932.0   "
     ]
    },
    {
     "name": "stderr",
     "output_type": "stream",
     "text": [
      "100%|██████████| 944/944 [00:04<00:00, 213.14it/s]\n",
      "100%|██████████| 30/30 [14:39<00:00, 29.33s/it]"
     ]
    },
    {
     "name": "stdout",
     "output_type": "stream",
     "text": [
      "Val acc:  14135380.0\n"
     ]
    },
    {
     "name": "stderr",
     "output_type": "stream",
     "text": [
      "\n"
     ]
    }
   ],
   "source": [
    "n_epochs = 30\n",
    "ask_model = AskNet()\n",
    "ask_model.to(device)\n",
    "optimizer = torch.optim.Adam(ask_model.parameters(), lr=1e-2)\n",
    "criterion = nn.MSELoss()\n",
    "train(ask_model, ask_dataloaders, optimizer, criterion, n_epochs=n_epochs, device=device)"
   ]
  },
  {
   "cell_type": "code",
   "execution_count": 103,
   "metadata": {
    "colab": {
     "base_uri": "https://localhost:8080/"
    },
    "id": "YnsbyQsYIKEC",
    "outputId": "296ec625-032a-452d-881e-63276d4c6233"
   },
   "outputs": [
    {
     "data": {
      "text/plain": [
       "tensor(18955.6992, device='cuda:0', grad_fn=<SqueezeBackward0>)"
      ]
     },
     "execution_count": 103,
     "metadata": {},
     "output_type": "execute_result"
    }
   ],
   "source": [
    "ask_model.eval()\n",
    "ask_model(torch.tensor(val_ask[:10]).float().unsqueeze(0).unsqueeze(2).cuda())"
   ]
  },
  {
   "cell_type": "code",
   "execution_count": 104,
   "metadata": {
    "colab": {
     "base_uri": "https://localhost:8080/"
    },
    "id": "S8g264MMMs4A",
    "outputId": "7cb4807b-b508-46b7-e841-9a715261acc4"
   },
   "outputs": [
    {
     "data": {
      "text/plain": [
       "22767.0"
      ]
     },
     "execution_count": 104,
     "metadata": {},
     "output_type": "execute_result"
    }
   ],
   "source": [
    "val_ask[10]"
   ]
  },
  {
   "cell_type": "markdown",
   "metadata": {},
   "source": [
    "Моделька очень сильно ошибается, никуда не годится. Возможно стоило подумать в сторону RL методов."
   ]
  }
 ],
 "metadata": {
  "accelerator": "GPU",
  "colab": {
   "provenance": []
  },
  "gpuClass": "standard",
  "kernelspec": {
   "display_name": "Python 3 (ipykernel)",
   "language": "python",
   "name": "python3"
  },
  "language_info": {
   "codemirror_mode": {
    "name": "ipython",
    "version": 3
   },
   "file_extension": ".py",
   "mimetype": "text/x-python",
   "name": "python",
   "nbconvert_exporter": "python",
   "pygments_lexer": "ipython3",
   "version": "3.9.13"
  }
 },
 "nbformat": 4,
 "nbformat_minor": 1
}
